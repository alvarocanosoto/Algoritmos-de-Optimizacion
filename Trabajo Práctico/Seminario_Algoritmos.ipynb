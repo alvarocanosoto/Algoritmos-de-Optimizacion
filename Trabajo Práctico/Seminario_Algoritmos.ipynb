{
 "cells": [
  {
   "cell_type": "markdown",
   "metadata": {
    "id": "hVbXYX-RfPWh"
   },
   "source": [
    "# Algoritmos de optimización - Seminario<br>\n",
    "Nombre y Apellidos: Álvaro Caño Soto <br>\n",
    "Url: https://github.com/alvarocanosoto/Algoritmos-de-Optimizacion/tree/main/Trabajo%20Pr%C3%A1ctico<br>\n",
    "Problema:\n",
    "> 1. Sesiones de doblaje <br>\n",
    ">2. Organizar los horarios de partidos de La Liga<br>\n",
    ">3. Combinar cifras y operaciones                                       "
   ]
  },
  {
   "cell_type": "raw",
   "metadata": {
    "id": "AiskKkzZfy4e"
   },
   "source": [
    "Descripción del problema: Problema 2: Organizar los horarios de partidos de La Liga\n",
    "\n",
    "Objetivo:\n",
    "Organizar los horarios de los partidos de la Liga de fútbol profesional para maximizar la audiencia de cada jornada. Se debe diseñar un algoritmo que asigne los horarios a los partidos de forma óptima.\n",
    "\n",
    "Horarios Disponibles:\n",
    "Día\t     Horarios Disponibles\n",
    "Viernes\t 20h\n",
    "Sábado\t 12h, 16h, 18h, 20h\n",
    "Domingo\t 12h, 16h, 18h, 20h\n",
    "Lunes\t 20h\n",
    "\n",
    "Clasificación de Equipos:\n",
    "Los equipos se clasifican en tres categorías según el número de seguidores, lo cual impacta directamente en la audiencia:\n",
    "\n",
    "Categoría A: 3 equipos\n",
    "Categoría B: 11 equipos\n",
    "Categoría C: 6 equipos\n",
    "\n",
    "Audiencia Base por Partido:\n",
    "La audiencia base de cada partido varía según las categorías de los equipos que se enfrenten y considerando el mejor horario (Sábado a las 20h):\n",
    "Categoría Partido\tCategoría A\t    Categoría B\t    Categoría C\n",
    "Categoría A\t        2.0 Millones    1.3 Millones\t1.0 Millones\n",
    "Categoría B\t        1.3 Millones\t0.9 Millones\t0.75 Millones\n",
    "Categoría C\t        1.0 Millones\t0.75 Millones\t0.47 Millones\n",
    "\n",
    "Ponderación de Audiencia por Horario:\n",
    "Si el partido no se realiza el sábado a las 20h, la audiencia se ajusta según los siguientes coeficientes:\n",
    "\n",
    "Hora\tViernes\t Sábado\t Domingo\tLunes\n",
    "12h\t       -\t 0.55\t 0.45\t      -\n",
    "16h\t       -\t 0.70\t 0.75\t      -\n",
    "18h\t       -\t 0.80\t 0.85\t      -\n",
    "20h\t      0.40\t 1.00\t 1.00\t     0.40\n",
    "\n",
    "\n",
    "Reducción por Coincidencias de Horario:\n",
    "Si hay coincidencia de horarios, la audiencia se reduce según el número de partidos coincidentes:\n",
    "\n",
    "Coincidencias\tReducción (%)\n",
    "0\t            0%\n",
    "1\t            25%\n",
    "2\t            45%\n",
    "3\t            60%\n",
    "4\t            70%\n",
    "5\t            75%\n",
    "6\t            78%\n",
    "7\t            80%\n",
    "8\t            80%\n",
    "\n",
    "\n",
    "Restricciones:\n",
    "Debe asignarse obligatoriamente un partido el viernes y otro el lunes.\n",
    "Se debe buscar maximizar la audiencia considerando la ponderación del horario y la penalización por coincidencias.\n",
    "\n",
    "(*) La respuesta es obligatoria"
   ]
  },
  {
   "cell_type": "markdown",
   "metadata": {
    "id": "3_-exlrTgLd-"
   },
   "source": [
    "(*)¿Cuantas posibilidades hay sin tener en cuenta las restricciones?<br>\n",
    "\n",
    "\n",
    "\n",
    "¿Cuantas posibilidades hay teniendo en cuenta todas las restricciones.\n",
    "\n",
    "\n"
   ]
  },
  {
   "cell_type": "markdown",
   "metadata": {
    "id": "WfCUqJyKhPcw"
   },
   "source": [
    "Respuesta"
   ]
  },
  {
   "cell_type": "markdown",
   "metadata": {
    "id": "iq6Fe32MgpDX"
   },
   "source": [
    "El número de posibilidades para asignar los horarios de los partidos de La Liga varía considerablemente dependiendo de si se tienen en cuenta las restricciones o no.\n",
    "\n",
    "En primer lugar, sin tener en cuenta las restricciones, cada uno de los 10 partidos podría jugarse en cualquiera de los 10 horarios disponibles, lo que genera un total de 10^10 combinaciones posibles.\n",
    "\n",
    "Sin embargo, si se tienen en cuenta las restricciones establecidas, la situación cambia. Las restricciones indican que debe haber un partido el viernes a las 20h y otro el lunes a las 20h. Esto significa que hay que fijar dos partidos en horarios específicos. Una vez asignados estos dos partidos, quedan 8 partidos por asignar en los 8 horarios restantes, que corresponden a las franjas horarias del sábado y el domingo.\n",
    "\n",
    "Para calcular las posibilidades con las restricciones, se deben considerar los siguientes pasos:\n",
    "\n",
    "En primer lugar, hay 10 opciones para elegir qué partido se jugará el viernes.\n",
    "Después, quedan 9 opciones para seleccionar el partido del lunes.\n",
    "Finalmente, los 8 partidos restantes pueden distribuirse en los 8 horarios disponibles del sábado y domingo. Esto se calcula como una permutación de 8 elementos, es decir, 8!, lo que da como resultado 40.320 combinaciones.\n",
    "Multiplicando estas opciones se obtiene el total de combinaciones posibles con restricciones:\n",
    "\n",
    "10 (opciones para el viernes) * 9 (opciones para el lunes) * 40.320 (permutaciones de los 8 partidos restantes) = 3.628.800 combinaciones\n",
    "\n",
    "En resumen, sin restricciones hay 10.000.000.000 combinaciones posibles, mientras que con las restricciones el número de posibilidades se reduce significativamente a 3.628.800. Esto demuestra cómo las restricciones pueden simplificar el problema, reduciendo el espacio de búsqueda para la optimización del problema."
   ]
  },
  {
   "cell_type": "markdown",
   "metadata": {
    "id": "dzynfVJahHoY"
   },
   "source": [
    "Modelo para el espacio de soluciones<br>\n",
    "(*) ¿Cual es la estructura de datos que mejor se adapta al problema? Argumentalo.(Es posible que hayas elegido una al principio y veas la necesidad de cambiar, arguentalo)\n"
   ]
  },
  {
   "cell_type": "markdown",
   "metadata": {
    "id": "xFIJrOwKi2Ti"
   },
   "source": [
    "Respuesta"
   ]
  },
  {
   "cell_type": "markdown",
   "metadata": {
    "id": "38c-7-ejhJmA"
   },
   "source": [
    "La estructura de datos que mejor se adapta al problema de asignar los horarios de los partidos de La Liga para maximizar la audiencia es una lista de tuplas, donde cada tupla representa la asignación de un partido a un horario específico.\n",
    "\n",
    "Una lista de tuplas es la estructura de datos más adecuada para asignar los horarios de los partidos de La Liga porque ofrece una combinación óptima de simplicidad, eficiencia y flexibilidad. Esta estructura permite iterar fácilmente sobre los partidos y horarios asignados, lo cual es fundamental para evaluar la audiencia de cada solución y aplicar operaciones de cruce y mutación en un algoritmo genético. Además, permite un acceso rápido a los datos y facilita la modificación de horarios específicos sin complicaciones.\n",
    "\n",
    "Otras estructuras de datos, como los diccionarios, no garantizan un orden específico, lo que podría ser problemático al evaluar coincidencias horarias. Las matrices o arrays pueden ser útiles para operaciones matemáticas, pero no aportan beneficios significativos en este contexto. Por último, los conjuntos (sets) no permiten duplicados y no mantienen el orden, lo cual es un inconveniente importante en este problema. Por estas razones, una lista de tuplas resulta ser la opción más práctica."
   ]
  },
  {
   "cell_type": "markdown",
   "metadata": {
    "id": "7Z9U2W7bi-XS"
   },
   "source": [
    "Según el modelo para el espacio de soluciones<br>\n",
    "(*)¿Cual es la función objetivo?\n",
    "\n",
    "(*)¿Es un problema de maximización o minimización?"
   ]
  },
  {
   "cell_type": "markdown",
   "metadata": {
    "id": "hBalWLM7j1_d"
   },
   "source": [
    "Respuesta"
   ]
  },
  {
   "cell_type": "markdown",
   "metadata": {
    "id": "pDA-rg3Gj5Lz"
   },
   "source": [
    "Según el modelo para el espacio de soluciones, la función objetivo en este problema es maximizar la audiencia total de los partidos de La Liga en cada jornada. La función objetivo se calcula en función de la audiencia base de cada partido, ajustada por la ponderación del horario asignado y reducida si hay coincidencias de horarios con otros partidos.\n",
    "\n",
    "Específicamente, la audiencia de cada partido se calcula multiplicando la audiencia base por un factor de ponderación horaria y aplicando un factor de reducción si hay partidos simultáneos. La función objetivo suma estas audiencias ajustadas para todas las asignaciones de partidos a horarios, proporcionando un valor total de audiencia que el algoritmo intentará optimizar.\n",
    "\n",
    "Este es un problema de maximización, ya que el objetivo es obtener la mayor audiencia posible para cada jornada, optimizando la asignación de horarios de los partidos para alcanzar el mayor valor posible en la función objetivo."
   ]
  },
  {
   "cell_type": "markdown",
   "metadata": {
    "id": "rlnTYgY1j6I2"
   },
   "source": [
    "Diseña un algoritmo para resolver el problema por fuerza bruta"
   ]
  },
  {
   "cell_type": "markdown",
   "metadata": {
    "id": "70rDgxYXkC8r"
   },
   "source": [
    "Respuesta"
   ]
  },
  {
   "cell_type": "code",
   "execution_count": 45,
   "metadata": {
    "id": "CJb5sQ0qkENy"
   },
   "outputs": [],
   "source": [
    "from itertools import permutations\n",
    "\n",
    "audiencia_base = {\n",
    "    ('A', 'A'): 2.0,\n",
    "    ('A', 'B'): 1.3,\n",
    "    ('A', 'C'): 1.0,\n",
    "    ('B', 'B'): 0.9,\n",
    "    ('B', 'C'): 0.75,\n",
    "    ('C', 'C'): 0.47\n",
    "}\n",
    "\n",
    "ponderacion_horaria = {\n",
    "    'V20': 0.4,\n",
    "    'S12': 0.55, 'S16': 0.7, 'S18': 0.8, 'S20': 1.0,\n",
    "    'D12': 0.45, 'D16': 0.75, 'D18': 0.85, 'D20': 1.0,\n",
    "    'L20': 0.4\n",
    "}\n",
    "\n",
    "reduccion_coincidencias = [1.0, 0.75, 0.55, 0.4, 0.3, 0.25, 0.22, 0.2, 0.2]\n",
    "\n",
    "partidos = [\n",
    "    (('Equipo1', 'Equipo2'), ('A', 'B')),\n",
    "    (('Equipo3', 'Equipo4'), ('B', 'C')),\n",
    "    (('Equipo5', 'Equipo6'), ('C', 'C')),\n",
    "    (('Equipo7', 'Equipo8'), ('A', 'A')),\n",
    "    (('Equipo9', 'Equipo10'), ('B', 'B')),\n",
    "    (('Equipo11', 'Equipo12'), ('A', 'C')),\n",
    "    (('Equipo13', 'Equipo14'), ('B', 'C')),\n",
    "    (('Equipo15', 'Equipo16'), ('C', 'C')),\n",
    "    (('Equipo17', 'Equipo18'), ('A', 'B')),\n",
    "    (('Equipo19', 'Equipo20'), ('B', 'C'))\n",
    "]\n",
    "\n",
    "# Horarios disponibles\n",
    "horarios = ['V20', 'S12', 'S16', 'S18', 'S20', 'D12', 'D16', 'D18', 'D20', 'L20']\n",
    "\n",
    "def evaluar_audiencia(solucion):\n",
    "    coincidencias = {h: 0 for h in horarios}\n",
    "    audiencia_total = 0\n",
    "    \n",
    "    for (partido, categorias), horario in solucion:\n",
    "        audiencia = audiencia_base[categorias]\n",
    "        ponderacion = ponderacion_horaria[horario]\n",
    "        coincidencias[horario] += 1\n",
    "        audiencia_total += audiencia * ponderacion\n",
    "    \n",
    "    max_coincidencias = max(coincidencias.values()) - 1\n",
    "    factor_reduccion = reduccion_coincidencias[min(max_coincidencias, len(reduccion_coincidencias) - 1)]\n",
    "    \n",
    "    return audiencia_total * factor_reduccion\n",
    "\n",
    "def fuerza_bruta(partidos, horarios):\n",
    "    mejor_audiencia = 0\n",
    "    mejor_solucion = []\n",
    "    \n",
    "    for permutacion in permutations(horarios):\n",
    "        solucion = list(zip(partidos, permutacion))\n",
    "        audiencia = evaluar_audiencia(solucion)\n",
    "        \n",
    "        if audiencia > mejor_audiencia:\n",
    "            mejor_audiencia = audiencia\n",
    "            mejor_solucion = solucion\n",
    "    \n",
    "    return mejor_solucion, mejor_audiencia"
   ]
  },
  {
   "cell_type": "code",
   "execution_count": 44,
   "metadata": {},
   "outputs": [
    {
     "name": "stdout",
     "output_type": "stream",
     "text": [
      "Mejor solución encontrada:\n",
      "Partido: (('Equipo19', 'Equipo20'), ('B', 'C')) -> Horario: S12\n",
      "Partido: (('Equipo17', 'Equipo18'), ('A', 'B')) -> Horario: S20\n",
      "Partido: (('Equipo13', 'Equipo14'), ('B', 'C')) -> Horario: D16\n",
      "Partido: (('Equipo5', 'Equipo6'), ('C', 'C')) -> Horario: D12\n",
      "Partido: (('Equipo7', 'Equipo8'), ('A', 'A')) -> Horario: D18\n",
      "Partido: (('Equipo1', 'Equipo2'), ('A', 'B')) -> Horario: V20\n",
      "Partido: (('Equipo3', 'Equipo4'), ('B', 'C')) -> Horario: S18\n",
      "Partido: (('Equipo11', 'Equipo12'), ('A', 'C')) -> Horario: S16\n",
      "Partido: (('Equipo15', 'Equipo16'), ('C', 'C')) -> Horario: D20\n",
      "Partido: (('Equipo9', 'Equipo10'), ('B', 'B')) -> Horario: L20\n",
      "\n",
      "Audiencia total: 7.52\n"
     ]
    }
   ],
   "source": [
    "# Test\n",
    "# Ejecución del algoritmo de fuerza bruta\n",
    "mejor_solucion, mejor_audiencia = fuerza_bruta(partidos, horarios)\n",
    "print(\"Mejor solución encontrada:\")\n",
    "for partido, horario in solucion:\n",
    "    print(f\"Partido: {partido} -> Horario: {horario}\")\n",
    "\n",
    "print(f\"\\nAudiencia total: {audiencia:.2f}\")"
   ]
  },
  {
   "cell_type": "markdown",
   "metadata": {
    "id": "tgrnsC2nkFa8"
   },
   "source": [
    "Calcula la complejidad del algoritmo por fuerza bruta"
   ]
  },
  {
   "cell_type": "markdown",
   "metadata": {
    "id": "9eUd3xwckP68"
   },
   "source": [
    "Respuesta"
   ]
  },
  {
   "cell_type": "markdown",
   "metadata": {
    "id": "rvZWwL-ckRST"
   },
   "source": [
    "El algoritmo genera todas las permutaciones posibles de los 10 horarios para los 10 partidos. La generación de permutaciones de un conjunto de tamaño n tiene una complejidad factorial"
   ]
  },
  {
   "cell_type": "markdown",
   "metadata": {
    "id": "txbrmLmskReM"
   },
   "source": [
    "(*)Diseña un algoritmo que mejore la complejidad del algortimo por fuerza bruta. Argumenta porque crees que mejora el algoritmo por fuerza bruta"
   ]
  },
  {
   "cell_type": "markdown",
   "metadata": {
    "id": "hLrVwt5QkZPD"
   },
   "source": [
    "Respuesta"
   ]
  },
  {
   "cell_type": "code",
   "execution_count": 46,
   "metadata": {
    "id": "m1eyM21Vkabg"
   },
   "outputs": [],
   "source": [
    "import random\n",
    "import copy\n",
    "import numpy as np\n",
    "import matplotlib.pyplot as plt\n",
    "import math\n",
    "\n",
    "# Datos del problema\n",
    "equipos_categorias = {\n",
    "    'A': ['Equipo1', 'Equipo2', 'Equipo3'],\n",
    "    'B': ['Equipo4', 'Equipo5', 'Equipo6', 'Equipo7', 'Equipo8', 'Equipo9', 'Equipo10', 'Equipo11', 'Equipo12', 'Equipo13', 'Equipo14'],\n",
    "    'C': ['Equipo15', 'Equipo16', 'Equipo17', 'Equipo18', 'Equipo19', 'Equipo20']\n",
    "}\n",
    "\n",
    "audiencia_base = {\n",
    "    ('A', 'A'): 2.0,\n",
    "    ('A', 'B'): 1.3,\n",
    "    ('A', 'C'): 1.0,\n",
    "    ('B', 'B'): 0.9,\n",
    "    ('B', 'C'): 0.75,\n",
    "    ('C', 'C'): 0.47\n",
    "}\n",
    "\n",
    "ponderacion_horaria = {\n",
    "    'V20': 0.4,\n",
    "    'S12': 0.55, 'S16': 0.7, 'S18': 0.8, 'S20': 1.0,\n",
    "    'D12': 0.45, 'D16': 0.75, 'D18': 0.85, 'D20': 1.0,\n",
    "    'L20': 0.4\n",
    "}\n",
    "\n",
    "reduccion_coincidencias = [1.0, 0.75, 0.55, 0.4, 0.3, 0.25, 0.22, 0.2, 0.2]\n",
    "\n",
    "# Horarios disponibles\n",
    "horarios = ['V20', 'S12', 'S16', 'S18', 'S20', 'D12', 'D16', 'D18', 'D20', 'L20']\n",
    "\n",
    "partidos = [\n",
    "    (('Equipo1', 'Equipo2'), ('A', 'B')),\n",
    "    (('Equipo3', 'Equipo4'), ('B', 'C')),\n",
    "    (('Equipo5', 'Equipo6'), ('C', 'C')),\n",
    "    (('Equipo7', 'Equipo8'), ('A', 'A')),\n",
    "    (('Equipo9', 'Equipo10'), ('B', 'B')),\n",
    "    (('Equipo11', 'Equipo12'), ('A', 'C')),\n",
    "    (('Equipo13', 'Equipo14'), ('B', 'C')),\n",
    "    (('Equipo15', 'Equipo16'), ('C', 'C')),\n",
    "    (('Equipo17', 'Equipo18'), ('A', 'B')),\n",
    "    (('Equipo19', 'Equipo20'), ('B', 'C'))\n",
    "]\n",
    "\n",
    "def generar_poblacion_inicial(partidos, horarios, N=100):\n",
    "    poblacion = []\n",
    "    for _ in range(N):\n",
    "        partidos_seleccionados = random.sample(partidos, len(horarios))\n",
    "        solucion = list(zip(partidos_seleccionados, random.sample(horarios, len(horarios))))\n",
    "        poblacion.append(solucion)\n",
    "    return poblacion\n",
    "\n",
    "def evaluar_audiencia(solucion):\n",
    "    coincidencias = {h: 0 for h in horarios}\n",
    "    audiencia_total = 0\n",
    "    \n",
    "    for (partido, categorias), horario in solucion:\n",
    "        # Normalizar las categorías en orden alfabético\n",
    "        categorias = tuple(sorted(categorias))\n",
    "        \n",
    "        audiencia = audiencia_base[categorias]\n",
    "        ponderacion = ponderacion_horaria[horario]\n",
    "        \n",
    "        coincidencias[horario] += 1\n",
    "        audiencia_total += audiencia * ponderacion\n",
    "    \n",
    "    # Calcular el factor de reducción por coincidencias de horarios\n",
    "    max_coincidencias = max(coincidencias.values()) - 1\n",
    "    factor_reduccion = reduccion_coincidencias[min(max_coincidencias, len(reduccion_coincidencias) - 1)]\n",
    "    \n",
    "    return audiencia_total * factor_reduccion\n",
    "\n",
    "def mutar(solucion, mutacion_prob=0.1):\n",
    "    if random.random() < mutacion_prob:\n",
    "        i, j = random.sample(range(len(solucion)), 2)\n",
    "        solucion[i], solucion[j] = (solucion[i][0], solucion[j][1]), (solucion[j][0], solucion[i][1])\n",
    "    return solucion\n",
    "\n",
    "def seleccionar_poblacion(poblacion, fitness, N=100, elitismo=0.1):\n",
    "    poblacion_ordenada = [x for _, x in sorted(zip(fitness, poblacion), key=lambda pair: pair[0], reverse=True)]\n",
    "    elite = poblacion_ordenada[:int(N * elitismo)]\n",
    "    seleccionados = elite + random.sample(poblacion_ordenada[int(N * elitismo):], N - len(elite))\n",
    "    return seleccionados\n",
    "\n",
    "def algoritmo_genetico(partidos, horarios, N=100, mutacion=0.1, elitismo=0.1, generaciones=100):\n",
    "    poblacion = generar_poblacion_inicial(partidos, horarios, N)\n",
    "    mejor_audiencia = 0\n",
    "    mejor_solucion = []\n",
    "\n",
    "    for _ in range(generaciones):\n",
    "        fitness = [evaluar_audiencia(sol) for sol in poblacion]\n",
    "        mejor_gen = max(fitness)\n",
    "        if mejor_gen > mejor_audiencia:\n",
    "            mejor_audiencia = mejor_gen\n",
    "            mejor_solucion = poblacion[fitness.index(mejor_gen)]\n",
    "        \n",
    "        poblacion = seleccionar_poblacion(poblacion, fitness, N, elitismo)\n",
    "        poblacion = [mutar(sol, mutacion) for sol in poblacion]\n",
    "    \n",
    "    return mejor_solucion, mejor_audiencia"
   ]
  },
  {
   "cell_type": "code",
   "execution_count": 42,
   "metadata": {},
   "outputs": [
    {
     "name": "stdout",
     "output_type": "stream",
     "text": [
      "Mejor solución encontrada:\n",
      "Partido: (('Equipo19', 'Equipo20'), ('B', 'C')) -> Horario: S12\n",
      "Partido: (('Equipo17', 'Equipo18'), ('A', 'B')) -> Horario: S20\n",
      "Partido: (('Equipo13', 'Equipo14'), ('B', 'C')) -> Horario: D16\n",
      "Partido: (('Equipo5', 'Equipo6'), ('C', 'C')) -> Horario: D12\n",
      "Partido: (('Equipo7', 'Equipo8'), ('A', 'A')) -> Horario: D18\n",
      "Partido: (('Equipo1', 'Equipo2'), ('A', 'B')) -> Horario: V20\n",
      "Partido: (('Equipo3', 'Equipo4'), ('B', 'C')) -> Horario: S18\n",
      "Partido: (('Equipo11', 'Equipo12'), ('A', 'C')) -> Horario: S16\n",
      "Partido: (('Equipo15', 'Equipo16'), ('C', 'C')) -> Horario: D20\n",
      "Partido: (('Equipo9', 'Equipo10'), ('B', 'B')) -> Horario: L20\n",
      "\n",
      "Audiencia total: 7.52\n"
     ]
    }
   ],
   "source": [
    "# Test\n",
    "solucion, audiencia = algoritmo_genetico(partidos, horarios, N=500, mutacion=0.2, elitismo=0.4, generaciones=350)\n",
    "print(\"Mejor solución encontrada:\")\n",
    "for partido, horario in solucion:\n",
    "    print(f\"Partido: {partido} -> Horario: {horario}\")\n",
    "\n",
    "print(f\"\\nAudiencia total: {audiencia:.2f}\")"
   ]
  },
  {
   "cell_type": "markdown",
   "metadata": {
    "id": "eGDB4K6uk1iN"
   },
   "source": [
    "(*)Calcula la complejidad del algoritmo"
   ]
  },
  {
   "cell_type": "markdown",
   "metadata": {
    "id": "NhpTh_BPk1ms"
   },
   "source": [
    "Respuesta"
   ]
  },
  {
   "cell_type": "markdown",
   "metadata": {
    "id": "nREzhkStlCq8"
   },
   "source": [
    "La complejidad del algoritmo genético para asignar horarios a los partidos se puede descomponer en varias etapas. La generación de la población inicial tiene una complejidad de O(N), donde N es el tamaño de la población, ya que se crean N soluciones iniciales asignando 10 partidos a 10 horarios.\n",
    "\n",
    "En cada generación, se evalúa la audiencia de todas las soluciones con una complejidad de O(N), y el proceso de selección tiene una complejidad de O(N log N) debido al ordenamiento de las soluciones por su audiencia. Las operaciones de cruce y mutación también tienen una complejidad de O(N).\n",
    "\n",
    "Dado que el algoritmo se ejecuta durante G generaciones, la complejidad total es:\n",
    "\n",
    "O(G * N log N)"
   ]
  },
  {
   "cell_type": "markdown",
   "metadata": {
    "id": "3M6QjTsSkmYe"
   },
   "source": [
    "Según el problema (y tenga sentido), diseña un juego de datos de entrada aleatorios"
   ]
  },
  {
   "cell_type": "markdown",
   "metadata": {
    "id": "Jc3_OlyNkvjZ"
   },
   "source": [
    "Respuesta"
   ]
  },
  {
   "cell_type": "code",
   "execution_count": 47,
   "metadata": {
    "id": "sJ-N2etjkyWc"
   },
   "outputs": [],
   "source": [
    "def generar_partidos_aleatorios(equipos_categorias, num_partidos=10):\n",
    "    # lista copia para evitar modificar el original\n",
    "    equipos_disponibles = {\n",
    "        categoria: equipos[:] for categoria, equipos in equipos_categorias.items()\n",
    "    }\n",
    "    partidos = []\n",
    "    categorias = list(equipos_categorias.keys())\n",
    "\n",
    "    while len(partidos) < num_partidos and len(categorias) > 1:\n",
    "        # Seleccionar dos categorías aleatorias con equipos disponibles\n",
    "        cat1, cat2 = random.sample([c for c in categorias if len(equipos_disponibles[c]) > 0], 2)\n",
    "        \n",
    "        # Elegir un equipo de cada categoría sin repetir\n",
    "        equipo1 = equipos_disponibles[cat1].pop(random.randrange(len(equipos_disponibles[cat1])))\n",
    "        equipo2 = equipos_disponibles[cat2].pop(random.randrange(len(equipos_disponibles[cat2])))\n",
    "\n",
    "        # Añadir el partido al listado\n",
    "        partidos.append(((equipo1, equipo2), (cat1, cat2)))\n",
    "        \n",
    "        # Eliminar categorías vacías\n",
    "        if not equipos_disponibles[cat1]:\n",
    "            categorias.remove(cat1)\n",
    "        if not equipos_disponibles[cat2]:\n",
    "            categorias.remove(cat2)\n",
    "\n",
    "    return partidos"
   ]
  },
  {
   "cell_type": "code",
   "execution_count": 49,
   "metadata": {},
   "outputs": [
    {
     "name": "stdout",
     "output_type": "stream",
     "text": [
      "(('Equipo1', 'Equipo2'), ('B', 'C'))\n",
      "(('Equipo3', 'Equipo4'), ('A', 'C'))\n",
      "(('Equipo3', 'Equipo4'), ('C', 'B'))\n",
      "(('Equipo6', 'Equipo11'), ('C', 'B'))\n",
      "(('Equipo3', 'Equipo2'), ('B', 'A'))\n",
      "(('Equipo0', 'Equipo2'), ('C', 'B'))\n",
      "(('Equipo1', 'Equipo8'), ('C', 'B'))\n",
      "(('Equipo5', 'Equipo6'), ('C', 'B'))\n",
      "(('Equipo7', 'Equipo1'), ('B', 'A'))\n",
      "(('Equipo10', 'Equipo0'), ('B', 'A'))\n"
     ]
    }
   ],
   "source": [
    "#Test\n",
    "equipos_categorias = {\n",
    "    'A': [f'Equipo{i}' for i in range(4)],       # 3 equipos en categoría A\n",
    "    'B': [f'Equipo{i}' for i in range(12)],      # 11 equipos en categoría B\n",
    "    'C': [f'Equipo{i}' for i in range(7)]      # 6 equipos en categoría C\n",
    "}\n",
    "\n",
    "partidos_aleatorios = generar_partidos_aleatorios(equipos_categorias, num_partidos=10)\n",
    "partidos_aleatorios = list(partidos_aleatorios)\n",
    "\n",
    "for partido in partidos_aleatorios:\n",
    "    print(partido)"
   ]
  },
  {
   "cell_type": "markdown",
   "metadata": {
    "id": "zy5ZROmjlGo1"
   },
   "source": [
    "Aplica el algoritmo al juego de datos generado"
   ]
  },
  {
   "cell_type": "markdown",
   "metadata": {
    "id": "_Cmj-PVylMsa"
   },
   "source": [
    "Respuesta"
   ]
  },
  {
   "cell_type": "code",
   "execution_count": 50,
   "metadata": {
    "id": "Jkx8GeiYlUz1"
   },
   "outputs": [
    {
     "name": "stdout",
     "output_type": "stream",
     "text": [
      "Mejor solución encontrada:\n",
      "Partido: (('Equipo3', 'Equipo2'), ('B', 'A')) -> Horario: S16\n",
      "Partido: (('Equipo1', 'Equipo2'), ('B', 'C')) -> Horario: S18\n",
      "Partido: (('Equipo0', 'Equipo2'), ('C', 'B')) -> Horario: D12\n",
      "Partido: (('Equipo3', 'Equipo4'), ('A', 'C')) -> Horario: D16\n",
      "Partido: (('Equipo10', 'Equipo0'), ('B', 'A')) -> Horario: V20\n",
      "Partido: (('Equipo5', 'Equipo6'), ('C', 'B')) -> Horario: D20\n",
      "Partido: (('Equipo6', 'Equipo11'), ('C', 'B')) -> Horario: S12\n",
      "Partido: (('Equipo7', 'Equipo1'), ('B', 'A')) -> Horario: L20\n",
      "Partido: (('Equipo3', 'Equipo4'), ('C', 'B')) -> Horario: S20\n",
      "Partido: (('Equipo1', 'Equipo8'), ('C', 'B')) -> Horario: D18\n",
      "\n",
      "Audiencia total: 6.94\n"
     ]
    }
   ],
   "source": [
    "solucion, audiencia = algoritmo_genetico(partidos_aleatorios, horarios, N=500, mutacion=0.2, elitismo=0.4, generaciones=350)\n",
    "print(\"Mejor solución encontrada:\")\n",
    "for partido, horario in solucion:\n",
    "    print(f\"Partido: {partido} -> Horario: {horario}\")\n",
    "\n",
    "print(f\"\\nAudiencia total: {audiencia:.2f}\")"
   ]
  },
  {
   "cell_type": "markdown",
   "metadata": {
    "id": "eTFWUJQrtGcv"
   },
   "source": [
    "Enumera las referencias que has utilizado(si ha sido necesario) para llevar a cabo el trabajo"
   ]
  },
  {
   "cell_type": "markdown",
   "metadata": {
    "id": "YKQ_mRBttWsP"
   },
   "source": [
    "Respuesta"
   ]
  },
  {
   "cell_type": "markdown",
   "metadata": {
    "id": "kAkDPUyRtYyH"
   },
   "source": [
    "Describe brevemente las lineas de como crees que es posible avanzar en el estudio del problema. Ten en cuenta incluso posibles variaciones del problema y/o variaciones al alza del tamaño"
   ]
  },
  {
   "cell_type": "markdown",
   "metadata": {
    "id": "IE0uZmo-tZu-"
   },
   "source": [
    "Respuesta"
   ]
  },
  {
   "cell_type": "markdown",
   "metadata": {},
   "source": [
    "Para avanzar en el estudio del problema se pueden seguir varias líneas. En primer lugar, se podría optimizar el algoritmo genético ajustando parámetros como el tamaño de la población, la tasa de mutación y el elitismo. También se podrían añadir restricciones adicionales, nuevos objetivos o evaluar diferentes escenarios. Para manejar un mayor número de equipos y partidos, sería útil probar técnicas de optimización del rendimiento y explorar otras metaheurísticas como la optimización con el algoritmo de colonia de hormigas. Además, visualizar el progreso del algoritmo y analizar patrones en las mejores soluciones permitiría identificar oportunidades de mejora."
   ]
  }
 ],
 "metadata": {
  "colab": {
   "provenance": []
  },
  "kernelspec": {
   "display_name": "Python 3 (ipykernel)",
   "language": "python",
   "name": "python3"
  },
  "language_info": {
   "codemirror_mode": {
    "name": "ipython",
    "version": 3
   },
   "file_extension": ".py",
   "mimetype": "text/x-python",
   "name": "python",
   "nbconvert_exporter": "python",
   "pygments_lexer": "ipython3",
   "version": "3.12.7"
  }
 },
 "nbformat": 4,
 "nbformat_minor": 4
}
